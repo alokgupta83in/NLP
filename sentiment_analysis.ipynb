{
 "cells": [
  {
   "cell_type": "markdown",
   "metadata": {},
   "source": [
    "# Sentiment Analysis\n",
    "\n",
    "_Artificial Intelligence Nanodegree Program | Natural Language Processing_\n",
    "\n",
    "---\n",
    "\n",
    "With the rise of online social media platforms like Twitter, Facebook and Reddit, and the proliferation of customer reviews on sites like Amazon and Yelp, we now have access, more than ever before, to massive text-based data sets! They can be analyzed in order to determine how large portions of the population feel about certain products, events, etc. This sort of analysis is called _sentiment analysis_. In this notebook you will build an end-to-end sentiment classification system from scratch.\n",
    "\n",
    "## Instructions\n",
    "\n",
    "Some template code has already been provided for you, and you will need to implement additional functionality to successfully complete this notebook. You will not need to modify the included code beyond what is requested. Sections that begin with '**TODO**' in the header indicate that you need to complete or implement some portion within them. Instructions will be provided for each section and the specifics of the implementation are marked in the code block with a `# TODO: ...` comment. Please be sure to read the instructions carefully!\n",
    "\n",
    "In addition to implementing code, there will be questions for you to answer which relate to the task and your implementation. Each section where you will answer a question is preceded by a '**Question:**' header. Carefully read each question and provide your answer below the '**Answer:**' header by editing the Markdown cell.\n",
    "\n",
    "> **Note**: Code and Markdown cells can be executed using the **Shift+Enter** keyboard shortcut. In addition, a cell can be edited by typically clicking it (double-click for Markdown cells) or by pressing **Enter** while it is highlighted."
   ]
  },
  {
   "cell_type": "markdown",
   "metadata": {},
   "source": [
    "## Step 1: Exploring the data!\n",
    "\n",
    "The dataset we are going to use is very popular among researchers in Natural Language Processing, usually referred to as the [IMDb dataset](http://ai.stanford.edu/~amaas/data/sentiment/). It consists of movie reviews from the website [imdb.com](http://www.imdb.com/), each labeled as either '**pos**itive', if the reviewer enjoyed the film, or '**neg**ative' otherwise.\n",
    "\n",
    "> Maas, Andrew L., et al. [Learning Word Vectors for Sentiment Analysis](http://ai.stanford.edu/~amaas/data/sentiment/). In _Proceedings of the 49th Annual Meeting of the Association for Computational Linguistics: Human Language Technologies_. Association for Computational Linguistics, 2011.\n",
    "\n",
    "We have provided the dataset for you. You can load it in by executing the Python cell below."
   ]
  },
  {
   "cell_type": "code",
   "execution_count": 1,
   "metadata": {},
   "outputs": [
    {
     "name": "stdout",
     "output_type": "stream",
     "text": [
      "IMDb reviews: train = 12500 pos / 12500 neg, test = 12500 pos / 12500 neg\n"
     ]
    }
   ],
   "source": [
    "import os\n",
    "import glob\n",
    "\n",
    "def read_imdb_data(data_dir='data/imdb-reviews'):\n",
    "    \"\"\"Read IMDb movie reviews from given directory.\n",
    "    \n",
    "    Directory structure expected:\n",
    "    - data/\n",
    "        - train/\n",
    "            - pos/\n",
    "            - neg/\n",
    "        - test/\n",
    "            - pos/\n",
    "            - neg/\n",
    "    \n",
    "    \"\"\"\n",
    "\n",
    "    # Data, labels to be returned in nested dicts matching the dir. structure\n",
    "    data = {}\n",
    "    labels = {}\n",
    "\n",
    "    # Assume 2 sub-directories: train, test\n",
    "    for data_type in ['train', 'test']:\n",
    "        data[data_type] = {}\n",
    "        labels[data_type] = {}\n",
    "\n",
    "        # Assume 2 sub-directories for sentiment (label): pos, neg\n",
    "        for sentiment in ['pos', 'neg']:\n",
    "            data[data_type][sentiment] = []\n",
    "            labels[data_type][sentiment] = []\n",
    "            \n",
    "            # Fetch list of files for this sentiment\n",
    "            path = os.path.join(data_dir, data_type, sentiment, '*.txt')\n",
    "            files = glob.glob(path)\n",
    "            \n",
    "            # Read reviews data and assign labels\n",
    "            for f in files:\n",
    "                with open(f) as review:\n",
    "                    data[data_type][sentiment].append(review.read())\n",
    "                    labels[data_type][sentiment].append(sentiment)\n",
    "            \n",
    "            assert len(data[data_type][sentiment]) == len(labels[data_type][sentiment]), \\\n",
    "                    \"{}/{} data size does not match labels size\".format(data_type, sentiment)\n",
    "    \n",
    "    # Return data, labels as nested dicts\n",
    "    return data, labels\n",
    "\n",
    "\n",
    "data, labels = read_imdb_data()\n",
    "print(\"IMDb reviews: train = {} pos / {} neg, test = {} pos / {} neg\".format(\n",
    "        len(data['train']['pos']), len(data['train']['neg']),\n",
    "        len(data['test']['pos']), len(data['test']['neg'])))"
   ]
  },
  {
   "cell_type": "markdown",
   "metadata": {},
   "source": [
    "Now that the data is loaded in, let's take a quick look at one of the positive reviews:"
   ]
  },
  {
   "cell_type": "code",
   "execution_count": 2,
   "metadata": {},
   "outputs": [
    {
     "name": "stdout",
     "output_type": "stream",
     "text": [
      "Just a note to add to the above comment. Fear of a Black Hat doesn't have the criminal who's image has been ripped off by the band, that's in CB4. Easily confused as the two films are so similar, but Black Hat is vastly the superior of the two..... yeah.\n"
     ]
    }
   ],
   "source": [
    "print(data['train']['pos'][2])"
   ]
  },
  {
   "cell_type": "markdown",
   "metadata": {},
   "source": [
    "And one with a negative sentiment:"
   ]
  },
  {
   "cell_type": "code",
   "execution_count": 3,
   "metadata": {},
   "outputs": [
    {
     "name": "stdout",
     "output_type": "stream",
     "text": [
      "Honestly,the concept behind \"Masters of Horror\" had something going for it. Big-time horror directors that are now left aside by the industry being given a chance to direct horror again, I was all for it from the start. That is, until I watched some episodes... Oh boy, it's really bad TV. Not only does it seem like the directors are being given very little budgets to direct their skits, but there seems to be guidelines as well, like shooting in HD for example. To make a long story short, it's bad both for artistic and reasons financial reasons. I cannot help but compare to the \"Tales From The Crypt\", and the M.o.H. episodes really don't stand the comparison. TFTC was good, MOH is bad; according to me here are a few keys to explain it: TFTC was shorter (around 25 minutes for each episode) than MOH (50 minutes per episode), I believe it allowed denser screenplays, with good ideas reoccurring more often, better overview of an episode, less chances to let the plot be confusing or boring. Duration might have been also the reason why the budget was better spent on TFTC: directors got to have REAL film music composers (composers on MOH are if inexistent, very bad), REAL actors (whereas on MOH it's nothing but unknown actor after unknown actor!), REAL directors of photography and, it can help sometimes, REAL film cameras (while MOH is shot on HD cameras with very wrongly chosen lens-pieces), the result of which being that the episodes of TFTC looked and felt \"cinematographic\" in the sense that there was real actors being casted, ranging from Michael J. Fox to Tim Roth to Kyle McLachlan to Kirk Douglas, but there were also film composers behind it, of the range of Alan Silvestri, great directors of photography like Dean Cundey, high-end screenplay writers, and in that sense each \"Tale\" was a little movie of its own true kind. Compared to TFTC, the \"Masters of Horrors\" is quite a lame approach to TV horror. It's very hard to stand looking at it if your standards regarding cinematography are just a little above average, because it looks the same as any ugly TV serial, if not worse. It gets boring and even annoying incredibly fast, within the first 10 minutes usually. The actors are never-heard before wannabes (except for Fairuza Balk, Robert Englund, Angela Bettis and a few, but even there, they are the only famous actors of their episodes). The director base for MoH was good in the beginning, but it's getting worst and worst with every episode: now if even the directors are unknown to the world, what remains? Nothing! And it's funny how they are starting to have complete unknown directors while they haven't even had, say, Stan Winston, Dick Maas, William Lustig, Sam Raimi, Eric Red, Robert Harmon, William Friedkin, Jim Muro, Stuart Gordon, Russell Mulcahy... If even \"Masters of Horror\" cannot bring dead directors back to life, who will? Maybe a rerun of Tales from the Crypt will.\n"
     ]
    }
   ],
   "source": [
    "print(data['train']['neg'][2])"
   ]
  },
  {
   "cell_type": "markdown",
   "metadata": {},
   "source": [
    "We can also make a wordcloud visualization of the reviews."
   ]
  },
  {
   "cell_type": "code",
   "execution_count": 4,
   "metadata": {},
   "outputs": [
    {
     "name": "stdout",
     "output_type": "stream",
     "text": [
      "Requirement already satisfied: wordcloud in /home/workspace (1.4.1)\n",
      "Requirement already satisfied: numpy>=1.6.1 in /home/workspace (from wordcloud) (1.14.3)\n",
      "Requirement already satisfied: pillow in /home/workspace (from wordcloud) (5.1.0)\n",
      "Requirement already satisfied: matplotlib in /home/workspace (from wordcloud) (2.2.2)\n",
      "Requirement already satisfied: cycler>=0.10 in /home/workspace (from matplotlib->wordcloud) (0.10.0)\n",
      "Requirement already satisfied: pyparsing!=2.0.4,!=2.1.2,!=2.1.6,>=2.0.1 in /home/workspace (from matplotlib->wordcloud) (2.2.0)\n",
      "Requirement already satisfied: pytz in /home/workspace (from matplotlib->wordcloud) (2018.4)\n",
      "Requirement already satisfied: kiwisolver>=1.0.1 in /home/workspace (from matplotlib->wordcloud) (1.0.1)\n",
      "Requirement already satisfied: python-dateutil>=2.1 in /home/workspace (from matplotlib->wordcloud) (2.7.2)\n",
      "Requirement already satisfied: six>=1.10 in /home/workspace (from matplotlib->wordcloud) (1.11.0)\n",
      "Requirement already satisfied: setuptools in /home/workspace (from kiwisolver>=1.0.1->matplotlib->wordcloud) (39.1.0)\n"
     ]
    }
   ],
   "source": [
    "# Installing wordcloud\n",
    "!pip install wordcloud"
   ]
  },
  {
   "cell_type": "code",
   "execution_count": 5,
   "metadata": {},
   "outputs": [],
   "source": [
    "import matplotlib.pyplot as plt\n",
    "%matplotlib inline\n",
    "\n",
    "from wordcloud import WordCloud, STOPWORDS\n",
    "\n",
    "sentiment = 'pos'\n",
    "\n",
    "# Combine all reviews for the desired sentiment\n",
    "combined_text = \" \".join([review for review in data['train'][sentiment]])"
   ]
  },
  {
   "cell_type": "code",
   "execution_count": 6,
   "metadata": {},
   "outputs": [],
   "source": [
    "# Combine all reviews for the desired sentiment\n",
    "combined_text_neg = \" \".join([review for review in data['train']['neg']])"
   ]
  },
  {
   "cell_type": "code",
   "execution_count": 7,
   "metadata": {},
   "outputs": [
    {
     "data": {
      "image/png": "[encoded data removed]",
      "text/plain": [
       "<Figure size 432x288 with 1 Axes>"
      ]
     },
     "metadata": {
      "needs_background": "light"
     },
     "output_type": "display_data"
    }
   ],
   "source": [
    "\n",
    "\n",
    "# Initialize wordcloud object\n",
    "wc = WordCloud(background_color='white', max_words=50,\n",
    "        # update stopwords to include common words like film and movie\n",
    "        stopwords = STOPWORDS.update(['br','film','movie']))\n",
    "\n",
    "# Generate and plot wordcloud\n",
    "plt.imshow(wc.generate(combined_text))\n",
    "plt.axis('off')\n",
    "plt.show()"
   ]
  },
  {
   "cell_type": "code",
   "execution_count": 8,
   "metadata": {},
   "outputs": [
    {
     "data": {
      "image/png": "[encoded data removed]",
      "text/plain": [
       "<Figure size 432x288 with 1 Axes>"
      ]
     },
     "metadata": {
      "needs_background": "light"
     },
     "output_type": "display_data"
    }
   ],
   "source": [
    "# Generate and plot wordcloud\n",
    "plt.imshow(wc.generate(combined_text_neg))\n",
    "plt.axis('off')\n",
    "plt.show()"
   ]
  },
  {
   "cell_type": "code",
   "execution_count": 9,
   "metadata": {},
   "outputs": [
    {
     "data": {
      "text/plain": [
       "'a'"
      ]
     },
     "execution_count": 9,
     "metadata": {},
     "output_type": "execute_result"
    }
   ],
   "source": [
    "combined_text_neg[4]"
   ]
  },
  {
   "cell_type": "markdown",
   "metadata": {},
   "source": [
    "Try changing the sentiment to `'neg'` and see if you can spot any obvious differences between the wordclouds."
   ]
  },
  {
   "cell_type": "markdown",
   "metadata": {},
   "source": [
    "### TODO: Form training and test sets\n",
    "\n",
    "Now that you've seen what the raw data looks like, combine the positive and negative documents to get one unified training set and one unified test set."
   ]
  },
  {
   "cell_type": "code",
   "execution_count": 10,
   "metadata": {},
   "outputs": [
    {
     "name": "stdout",
     "output_type": "stream",
     "text": [
      "IMDb reviews (combined): train = 25000, test = 25000\n"
     ]
    }
   ],
   "source": [
    "from sklearn.utils import shuffle\n",
    "\n",
    "def prepare_imdb_data(data):\n",
    "    \"\"\"Prepare training and test sets from IMDb movie reviews.\"\"\"\n",
    "    \n",
    "    # TODO: Combine positive and negative reviews and labels\n",
    "    data_train = data['train']['pos'] + data['train']['neg']\n",
    "    data_test = data['test']['pos'] + data['test']['neg']\n",
    "    \n",
    "    labels_train = labels['train']['pos'] + labels['train']['neg']\n",
    "    labels_test = labels['test']['pos'] + labels['test']['neg']\n",
    "    \n",
    "    # TODO: Shuffle reviews and corresponding labels within training and test sets\n",
    "    \n",
    "    # Return a unified training data, test data, training labels, test labets\n",
    "    return data_train, data_test, labels_train, labels_test\n",
    "\n",
    "\n",
    "data_train, data_test, labels_train, labels_test = prepare_imdb_data(data)\n",
    "print(\"IMDb reviews (combined): train = {}, test = {}\".format(len(data_train), len(data_test)))"
   ]
  },
  {
   "cell_type": "markdown",
   "metadata": {},
   "source": [
    "## Step 2. Preprocessing\n",
    "\n",
    "As you might have noticed in the sample reviews, our raw data includes HTML. Therefore there are HTML tags that need to be removed. We also need to remove non-letter characters, normalize uppercase letters by converting them to lowercase, tokenize, remove stop words, and stem the remaining words in each document.\n",
    "\n",
    "### TODO: Convert each review to words\n",
    "\n",
    "As your next task, you should complete the function `review_to_words()` that performs all these steps. For your convenience, in the Python cell below we provide you with all the libraries that you may need in order to accomplish these preprocessing steps. Make sure you can import all of them! (If not, pip install from a terminal and run/import again.)"
   ]
  },
  {
   "cell_type": "code",
   "execution_count": 11,
   "metadata": {},
   "outputs": [
    {
     "name": "stdout",
     "output_type": "stream",
     "text": [
      "[nltk_data] Downloading package stopwords to /root/nltk_data...\n",
      "[nltk_data]   Unzipping corpora/stopwords.zip.\n"
     ]
    }
   ],
   "source": [
    "# BeautifulSoup to easily remove HTML tags\n",
    "from bs4 import BeautifulSoup \n",
    "\n",
    "# RegEx for removing non-letter characters\n",
    "import re\n",
    "\n",
    "# NLTK library for the remaining steps\n",
    "import nltk\n",
    "nltk.download(\"stopwords\")   # download list of stopwords (only once; need not run it again)\n",
    "from nltk.corpus import stopwords # import stopwords\n",
    "\n",
    "from nltk.stem.porter import *\n",
    "stemmer = PorterStemmer()"
   ]
  },
  {
   "cell_type": "code",
   "execution_count": 12,
   "metadata": {},
   "outputs": [],
   "source": [
    "review = \"\"\"This is just a <em>test</em>.<br/><br />\n",
    "But if it wasn't a test, it would make for a <b>Great</b> movie review!\"\"\"\n",
    "\n",
    "\"\"\"Convert a raw review string into a sequence of words.\"\"\"\n",
    "soup = BeautifulSoup(review, \"html.parser\") # create a new bs4 object from the html data loaded\n",
    "for script in soup([\"script\", \"style\"]): # remove all javascript and stylesheet code\n",
    "    script.extract()\n"
   ]
  },
  {
   "cell_type": "code",
   "execution_count": 13,
   "metadata": {},
   "outputs": [],
   "source": [
    "text = BeautifulSoup(review, \"html5lib\").get_text()\n"
   ]
  },
  {
   "cell_type": "code",
   "execution_count": 14,
   "metadata": {},
   "outputs": [
    {
     "data": {
      "text/plain": [
       "'abdE'"
      ]
     },
     "execution_count": 14,
     "metadata": {},
     "output_type": "execute_result"
    }
   ],
   "source": [
    "regex = re.compile('[^a-zA-Z]')\n",
    "#First parameter is the replacement, second parameter is your input string\n",
    "regex.sub('', 'ab3d*E')\n",
    "#Out: 'abdE'\n"
   ]
  },
  {
   "cell_type": "code",
   "execution_count": 15,
   "metadata": {},
   "outputs": [
    {
     "data": {
      "text/plain": [
       "['test', 'test', 'would', 'make', 'great', 'movi', 'review']"
      ]
     },
     "execution_count": 15,
     "metadata": {},
     "output_type": "execute_result"
    }
   ],
   "source": [
    "def review_to_words(review):\n",
    "    \"\"\"Convert a raw review string into a sequence of words.\"\"\"\n",
    "    text = BeautifulSoup(review, \"html5lib\").get_text()\n",
    "    # get text\n",
    "    text = soup.get_text()\n",
    "    #First parameter is regex, second the replacement, third parameter is your input string\n",
    "    text = re.sub(r\"[^a-zA-Z0-9]\", \" \", text.lower())\n",
    "    words = text.split()\n",
    "    words = [w for w in words if w not in stopwords.words(\"english\")]\n",
    "    words = [PorterStemmer().stem(w) for w in words]\n",
    "    # TODO: Remove HTML tags and non-letters,\n",
    "    #       convert to lowercase, tokenize,\n",
    "    #       remove stopwords and stem\n",
    "    \n",
    "    # Return final list of words\n",
    "    return words\n",
    "\n",
    "\n",
    "review_to_words(\"\"\"This is just a <em>test</em>.<br/><br />\n",
    "But if it wasn't a test, it would make for a <b>Great</b> movie review!\"\"\")"
   ]
  },
  {
   "cell_type": "markdown",
   "metadata": {},
   "source": [
    "With the function `review_to_words()` fully implemeneted, we can apply it to all reviews in both training and test datasets. This may take a while, so let's build in a mechanism to write to a cache file and retrieve from it later."
   ]
  },
  {
   "cell_type": "code",
   "execution_count": 16,
   "metadata": {},
   "outputs": [],
   "source": [
    "import pickle\n",
    "\n",
    "cache_dir = os.path.join(\"cache\", \"sentiment_analysis\")  # where to store cache files"
   ]
  },
  {
   "cell_type": "code",
   "execution_count": 17,
   "metadata": {},
   "outputs": [],
   "source": [
    "os.makedirs(cache_dir, exist_ok=True)  # ensure cache directory exists"
   ]
  },
  {
   "cell_type": "code",
   "execution_count": 18,
   "metadata": {},
   "outputs": [
    {
     "name": "stdout",
     "output_type": "stream",
     "text": [
      "first place  preprocessed_data.pkl\n",
      "Read preprocessed data from cache file: preprocessed_data.pkl\n",
      "\n",
      "--- Raw review ---\n",
      "While the original 1932 version, with Preston Foster, was good, there's no remake more worthy than this 1959 one, or more impossible to find anywhere, just as I strongly suspect Mickey Rooney to have had something to do with that. Never could a mere performance have ever been so masterfully brilliant, or a script more thought-provoking, as well as an improvement upon the original. Many years after the last of my several viewings of this film, in 1970, I read an article in which Mickey Rooney was recounting a visit he'd made to death row, and which had apparently very drastically eliminated whatever sense of personal identification he'd felt with people in similar circumstances. The article was about as short as the main character here, and didn't cover much, other than the extent to which his extreme disillusionment with the quality of the inmates themselves had been emphasized, even in language I would not care to explicitly quote here. . . . . One of my main problems with capital punishment is that, of course, it is not evenly, impartially applied, just as many innocent people are far-too-carelessly, thus unnecessarily sent to meet this particular fate. Another problem I have with it is that it is not applied swiftly enough, or, for that matter, even publicly enough! The bible makes a special point, in such cases, about one of the more important purposes of such, as a deterrent, being ineffectually obscured, minus, not only a public viewing, but also the direct participation of all! As for those who claim to prove, statistically, that such is not an effective deterrent? In addition to having a problem about the reliability of their data, I have little if any objectively disprovable doubt many are behind bars now due to the extent that such a deterrent is lacking. However, I do have a problem about the fact that Robert Duvall, in The Apostle, had been punished at all, for his particular \"crime,\" or that the only hope of leniency for one such as he would have to be based on a \"temporary insanity\" defense, as though that would serve as the only acceptable excuse in his kind of case. . . . In addition to various other questions concerning the motives of Mickey Rooney for that particular visit he'd recounted, and about the answers to which I can only try to speculate, I suspect the main one had been of a decidedly religious nature. I don't know exactly when he'd become the professing Christian he now makes it a special point, whenever possible, to emphasize that he is; but, as anybody should be well-aware, this particular category of people tends to be the most vehemently out for blood, when it comes to extracting an eye for an eye. However, I have no particular bone of contention concerning that, per se, just as there's no doubt, scripturally speaking, that not all, and perhaps not even most, shall be spared the same ultimate fate, at the hands of the Lord Himself, as a result of His sacrifice on the cross. However, there is a problem, for me, about the spirit or attitude with which most professing Christians emphasize their enthusiasm for capital punishment; for, contrary to the Lord Himself, who would love to see everybody saved (Ezekiel 18:32) (II Peter 3:9), they seem to go vindictively out of their way to find reasons to condemn! . . . What most people, on either side of this superlatively ever-burning issue, cannot appear to sufficiently appreciate, is that the Lord is as dynamically and elusively soft in nature as He is hard. The two sides of His nature appear to be so inherently incompatible as to render Him mentally deranged, at least by any strictly human reckoning. Yet, regardless of how harrowingly ungraspable this miraculously dynamic blending of the water and oil in His nature surely is, there can be no doubt that anything short of it, or anything fanatically and characteristically on either one side or the other of this equation, falls inadequately and unacceptably short of the entire judicial truth. Indeed, I've seen the most blood-curdling thirst for the same come out, self-contradictorily enough, on far-too-many occasions, whenever the categorically anti-death penalty advocates are confronted, even in the most rationally well-balanced ways, with the fact that, although the Lord died for everybody, not all are thereby going to be saved. After-all, in order to receive absolution, one must, to repeat the same term, reach out and receive it, that is, repent (Luke 13:3-5). Could anything make more sense? . . . But, then, what about the Lord's command to forgive, even in the case of one's enemies, of those who despise and persecute you without a just cause or provocation? One of the far-too-prevailing difficulties with this kind of sentimentality, as popularly misinterpreted, is the way it obscuringly over-simplifies the real meaning of forgiveness. The act of forgiveness does not, in itself, mean the same thing as unconditionally excusing the one being forgiven. When one takes a clearly sober, rationally well-balanced view here, from the perspective of God's own attitude, all it actually amounts to is a fervent wish that the one forgiven will ultimately succeed at finding his way, seeing the light, and being granted mercy. This attitude is, of course, the very opposite of, say, that of Jonah, who actually resented it when God told him that his preaching to the people of Nineveh would result in their repentance. Jonah didn't want them to repent, but vindictively desired that they be destroyed. How self-righteously, cold-bloodedly like unto most professing Christians he was, save that even his reasons were undoubtedly better than most! I envy Jonah almost as much as he would me! However, minus the repentance of the one being forgiven, any forgiveness he may receive from a genuine Christian is not going to do him any good. In such a case, the only one to benefit is the real Christian himself!\n",
      "\n",
      "--- Preprocessed words ---\n",
      "['blond', 'blonder', 'pamela', 'anderson', 'denis', 'richard', 'almost', 'everi', 'scene', 'want', 'movi', 'utterli', 'unreason', 'feel', 'like', 'late', 'era', 'carri', 'seri', 'longer', 'blaze', 'trail', 'still', 'funni', 'think', 'behind', 'england', 'far', 'mark', 'pamela', 'denis', 'bubbl', 'charm', 'clearli', 'awar', 'masterpiec', 'make', 'although', 'give', 'lot', 'thing', 'told', 'like', 'support', 'cast', 'energet', 'even', 'particularli', 'good', 'see', 'coupl', 'duff', 'turn', 'movi', 'alreadi', 'practic', 'forgotten', 'make', 'much', 'differ', 'anyth', 'smile', 'realli', 'think', 'blond', 'blonder', 'ace', 'hope', 'hate']\n",
      "\n",
      "--- Label ---\n",
      "pos\n"
     ]
    }
   ],
   "source": [
    "\n",
    "\n",
    "\n",
    "def preprocess_data(data_train, data_test, labels_train, labels_test,\n",
    "                    cache_dir=cache_dir, cache_file=\"preprocessed_data.pkl\"):\n",
    "    \"\"\"Convert each review to words; read from cache if available.\"\"\"\n",
    "\n",
    "    # If cache_file is not None, try to read from it first\n",
    "    cache_data = None\n",
    "    if cache_file is not None:\n",
    "        print('first place ', cache_file)\n",
    "        try:\n",
    "            with open(os.path.join(cache_dir, cache_file), \"rb\") as f:\n",
    "                cache_data = pickle.load(f)\n",
    "            print(\"Read preprocessed data from cache file:\", cache_file)\n",
    "        except:\n",
    "            pass  # unable to read from cache, but that's okay\n",
    "    \n",
    "    # If cache is missing, then do the heavy lifting\n",
    "    if cache_data is None:\n",
    "        # Preprocess training and test data to obtain words for each review\n",
    "        words_train = list(map(review_to_words, data_train))\n",
    "        words_test = list(map(review_to_words, data_test))\n",
    "        \n",
    "        # Write to cache file for future runs\n",
    "        if cache_file is not None:\n",
    "            print('inside cache file not none')\n",
    "            print(cache_file)\n",
    "            cache_data = dict(words_train=words_train, words_test=words_test,\n",
    "                              labels_train=labels_train, labels_test=labels_test)\n",
    "            with open(os.path.join(cache_dir, cache_file), \"wb\") as f:\n",
    "                pickle.dump(cache_data, f)\n",
    "            print(\"Wrote preprocessed data to cache file:\", cache_file)\n",
    "    else:\n",
    "        # Unpack data loaded from cache file\n",
    "        words_train, words_test, labels_train, labels_test = (cache_data['words_train'],\n",
    "                cache_data['words_test'], cache_data['labels_train'], cache_data['labels_test'])\n",
    "    \n",
    "    return words_train, words_test, labels_train, labels_test\n",
    "\n",
    "\n",
    "# Preprocess data\n",
    "words_train, words_test, labels_train, labels_test = preprocess_data(\n",
    "        data_train, data_test, labels_train, labels_test)\n",
    "\n",
    "# Take a look at a sample\n",
    "print(\"\\n--- Raw review ---\")\n",
    "print(data_train[1])\n",
    "print(\"\\n--- Preprocessed words ---\")\n",
    "print(words_train[1])\n",
    "print(\"\\n--- Label ---\")\n",
    "print(labels_train[1])"
   ]
  },
  {
   "cell_type": "code",
   "execution_count": 19,
   "metadata": {},
   "outputs": [
    {
     "data": {
      "text/plain": [
       "list"
      ]
     },
     "execution_count": 19,
     "metadata": {},
     "output_type": "execute_result"
    }
   ],
   "source": [
    "type(words_train)"
   ]
  },
  {
   "cell_type": "markdown",
   "metadata": {},
   "source": [
    "## Step 3: Extracting Bag-of-Words features\n",
    "\n",
    "Now that each document has been preprocessed, we can transform each into a Bag-of-Words feature representation. Note that we need to create this transformation based on the training data alone, as we are not allowed to peek at the testing data at all!\n",
    "\n",
    "The dictionary or _vocabulary_ $V$ (set of words shared by documents in the training set) used here will be the one on which we train our supervised learning algorithm. Any future test data must be transformed in the same way for us to be able to apply the learned model for prediction. Hence, it is important to store the transformation / vocabulary as well.\n",
    "\n",
    "> **Note**: The set of words in the training set may not be exactly the same as the test set. What do you do if you encounter a word during testing that you haven't seen before? Unfortunately, we'll have to ignore it, or replace it with a special `<UNK>` token.\n",
    "\n",
    "### TODO: Compute Bag-of-Words features\n",
    "\n",
    "Implement the `extract_BoW_features()` function, apply it to both training and test datasets, and store the results in `features_train` and `features_test` NumPy arrays, respectively. Choose a reasonable vocabulary size, say $|V| = 5000$, and keep only the top $|V|$ occuring words and discard the rest. This number will also serve as the number of columns in the BoW matrices.\n",
    "\n",
    "> **Hint**: You may find it useful to take advantage of `CountVectorizer` from scikit-learn. Also make sure to pickle your Bag-of-Words transformation so that you can use it in future."
   ]
  },
  {
   "cell_type": "code",
   "execution_count": 27,
   "metadata": {},
   "outputs": [
    {
     "name": "stdout",
     "output_type": "stream",
     "text": [
      "inside first\n",
      "Read features from cache file: bow_features.pkl\n",
      "Vocabulary: 5000 words\n",
      "Sample words: ['winner', 'linear', 'enlist', 'tonight', 'phoni', 'sicken', 'bollywood', 'neil']\n",
      "\n",
      "--- Preprocessed words ---\n",
      "['kid', '50', '60', 'anyth', 'connect', 'disney', 'definit', 'great', 'happen', 'abl', 'get', 'actor', 'actress', 'want', 'best', 'time', 'somehow', 'disney', 'manag', 'screw', 'thing', 'spite', 'abund', 'resourc', 'disney', 'afford', 'best', 'writer', 'best', 'produc', 'director', 'still', 'screw', 'thing', 'movi', 'crap', 'sad', 'thing', 'suspect', 'disney', 'arrog', 'even', 'know', 'movi', 'good', 'bad', 'due', 'talent', 'actor', 'even', 'give', '3', '10']\n",
      "\n",
      "--- Bag-of-Words features ---\n",
      "[0 0 0 ... 0 0 0]\n",
      "\n",
      "--- Label ---\n",
      "neg\n"
     ]
    }
   ],
   "source": [
    "import numpy as np\n",
    "from sklearn.feature_extraction.text import CountVectorizer\n",
    "from sklearn.externals import joblib\n",
    "# joblib is an enhanced version of pickle that is more efficient for storing NumPy arrays\n",
    "\n",
    "def extract_BoW_features(words_train, words_test, vocabulary_size=5000,\n",
    "                         cache_dir=cache_dir, cache_file=\"bow_features.pkl\"):\n",
    "    \"\"\"Extract Bag-of-Words for a given set of documents, already preprocessed into words.\"\"\"\n",
    "    \n",
    "    # If cache_file is not None, try to read from it first\n",
    "    cache_data = None\n",
    "    if cache_file is not None:\n",
    "        try:\n",
    "            print('inside first')\n",
    "            with open(os.path.join(cache_dir, cache_file), \"rb\") as f:\n",
    "                cache_data = joblib.load(f)\n",
    "            print(\"Read features from cache file:\", cache_file)\n",
    "        except:\n",
    "            print('unable to read from cache, but that''s okay')\n",
    "            #pass  # unable to read from cache, but that's okay\n",
    "    \n",
    "    # If cache is missing, then do the heavy lifting\n",
    "    if cache_data is None:\n",
    "        # TODO: Fit a vectorizer to training documents and use it to transform them\n",
    "        # NOTE: Training documents have already been preprocessed and tokenized into words;\n",
    "        #       pass in dummy functions to skip those steps, e.g. preprocessor=lambda x: x\n",
    "        vectorizer = CountVectorizer(max_features=5000,\n",
    "                preprocessor=lambda x: x, tokenizer=lambda x: x)  # already preprocessed\n",
    "        features_train = vectorizer.fit_transform(words_train).toarray()\n",
    "\n",
    "        # TODO: Apply the same vectorizer to transform the test documents (ignore unknown words)\n",
    "        features_test = vectorizer.transform(words_test).toarray()\n",
    "        \n",
    "        print(vectorizer.transform(features_test[0]).toarray())\n",
    "        \n",
    "        # NOTE: Remember to convert the features using .toarray() for a compact representation\n",
    "        \n",
    "        # Write to cache file for future runs (store vocabulary as well)\n",
    "        if cache_file is not None:\n",
    "            vocabulary = vectorizer.vocabulary_\n",
    "            cache_data = dict(features_train=features_train, features_test=features_test,\n",
    "                             vocabulary=vocabulary)\n",
    "            with open(os.path.join(cache_dir, cache_file), \"wb\") as f:\n",
    "                joblib.dump(cache_data, f)\n",
    "            print(\"Wrote features to cache file:\", cache_file)\n",
    "    else:\n",
    "        # Unpack data loaded from cache file\n",
    "        features_train, features_test, vocabulary = (cache_data['features_train'],\n",
    "                cache_data['features_test'], cache_data['vocabulary'])\n",
    "    \n",
    "    # Return both the extracted features as well as the vocabulary\n",
    "    return features_train, features_test, vocabulary\n",
    "\n",
    "\n",
    "# Extract Bag of Words features for both training and test datasets\n",
    "features_train, features_test, vocabulary = extract_BoW_features(words_train, words_test)\n",
    "\n",
    "# Inspect the vocabulary that was computed\n",
    "print(\"Vocabulary: {} words\".format(len(vocabulary)))\n",
    "\n",
    "import random\n",
    "print(\"Sample words: {}\".format(random.sample(list(vocabulary.keys()), 8)))\n",
    "\n",
    "# Sample\n",
    "print(\"\\n--- Preprocessed words ---\")\n",
    "print(words_train[5])\n",
    "print(\"\\n--- Bag-of-Words features ---\")\n",
    "print(features_train[5])\n",
    "print(\"\\n--- Label ---\")\n",
    "print(labels_train[5])"
   ]
  },
  {
   "cell_type": "code",
   "execution_count": 21,
   "metadata": {},
   "outputs": [
    {
     "data": {
      "text/plain": [
       "array([[0, 0, 0, ..., 0, 0, 0],\n",
       "       [0, 0, 0, ..., 0, 0, 0],\n",
       "       [0, 0, 0, ..., 0, 0, 0],\n",
       "       ...,\n",
       "       [0, 0, 0, ..., 0, 0, 0],\n",
       "       [0, 0, 0, ..., 0, 0, 0],\n",
       "       [0, 0, 0, ..., 0, 0, 0]])"
      ]
     },
     "execution_count": 21,
     "metadata": {},
     "output_type": "execute_result"
    }
   ],
   "source": [
    "features_train"
   ]
  },
  {
   "cell_type": "markdown",
   "metadata": {},
   "source": [
    "Let's try to visualize the Bag-of-Words feature vector for one of our training documents."
   ]
  },
  {
   "cell_type": "code",
   "execution_count": 22,
   "metadata": {},
   "outputs": [
    {
     "data": {
      "image/png": "[encoded data removed]",
      "text/plain": [
       "<Figure size 432x288 with 1 Axes>"
      ]
     },
     "metadata": {
      "needs_background": "light"
     },
     "output_type": "display_data"
    }
   ],
   "source": [
    "# Plot the BoW feature vector for a training document\n",
    "plt.plot(features_train[5,:])\n",
    "plt.xlabel('Word')\n",
    "plt.ylabel('Count')\n",
    "plt.show()"
   ]
  },
  {
   "cell_type": "code",
   "execution_count": 23,
   "metadata": {},
   "outputs": [
    {
     "data": {
      "text/plain": [
       "array([0, 0, 0, 0, 0, 0, 0, 0, 0, 0, 0, 0, 0, 1, 0, 0, 0, 0, 0, 0, 0, 0,\n",
       "       0, 0, 0, 0, 0, 0, 0, 0, 0, 0, 0, 0, 0, 0, 0, 0, 0, 0, 0, 0, 0, 0,\n",
       "       0, 0, 0, 0, 0, 0, 0, 0, 0, 0, 0, 0, 0, 0, 0, 0, 0, 0, 0, 0, 0, 0,\n",
       "       0, 0, 0, 0, 0, 0, 0, 0, 0, 0, 0, 0, 0, 0, 0, 0, 0, 0, 3, 0, 0, 0,\n",
       "       0, 0, 0, 0, 0, 0, 0, 0, 0, 0, 0, 0, 0, 0, 0, 0, 0, 0, 0, 0, 0, 0,\n",
       "       0, 0, 0, 0, 0, 0, 0, 0, 0, 1, 0, 0, 0, 0, 0, 0, 0, 0, 0, 0, 0, 0,\n",
       "       0, 0, 0, 0, 0, 0, 0, 0, 0, 0, 0, 0, 0, 0, 0, 0, 0, 0, 0, 0, 0, 0,\n",
       "       0, 0, 0, 0, 0, 0, 0, 0, 0, 0, 0, 0, 0, 0, 0, 0, 0, 0, 0, 0, 0, 0,\n",
       "       0, 0, 0, 0, 0, 0, 0, 0, 0, 0, 0, 0, 0, 0, 0, 0, 0, 0, 0, 0, 0, 0,\n",
       "       0, 0, 0, 0, 0, 0, 0, 0, 0, 0, 0, 0, 0, 0, 0, 0, 0, 0, 0, 0, 0, 0,\n",
       "       0, 0, 0, 0, 0, 0, 0, 0, 0, 0, 0, 0, 0, 0, 0, 0, 0, 0, 0, 0, 0, 0,\n",
       "       0, 0, 0, 0, 0, 0, 0, 0, 0, 0, 0, 0, 0, 0, 0, 0, 0, 0, 0, 0, 0, 0,\n",
       "       0, 0, 0, 0, 0, 0, 0, 0, 0, 0, 0, 0, 0, 0, 0, 0, 0, 0, 0, 0, 0, 0,\n",
       "       0, 0, 0, 0, 0, 0, 0, 0, 0, 0, 0, 0, 0, 0])"
      ]
     },
     "execution_count": 23,
     "metadata": {},
     "output_type": "execute_result"
    }
   ],
   "source": [
    "# Check the matrix values.\n",
    "features_train[5,4400:4700]"
   ]
  },
  {
   "cell_type": "code",
   "execution_count": 24,
   "metadata": {},
   "outputs": [],
   "source": [
    "vals = features_train[5,:]"
   ]
  },
  {
   "cell_type": "code",
   "execution_count": 25,
   "metadata": {},
   "outputs": [
    {
     "data": {
      "text/plain": [
       "99.16"
      ]
     },
     "execution_count": 25,
     "metadata": {},
     "output_type": "execute_result"
    }
   ],
   "source": [
    "(len(vals[ vals == 0])/len(vals))*100"
   ]
  },
  {
   "cell_type": "markdown",
   "metadata": {},
   "source": [
    "#### Question: Reflecting on Bag-of-Words feature representation\n",
    "\n",
    "What is the average sparsity level of BoW vectors in our training set? In other words, on average what percentage of entries in a BoW feature vector are zero?\n",
    "\n",
    "#### Answer:\n",
    "\n",
    "99.16\n",
    "\n",
    "### Zipf's law\n",
    "\n",
    "[Zipf's law](https://en.wikipedia.org/wiki/Zipf%27s_law), named after the famous American linguist George Zipf, is an empirical law stating that given a large collection of documents, the frequency of any word is inversely proportional to its rank in the frequency table. So the most frequent word will occur about twice as often as the second most frequent word, three times as often as the third most frequent word, and so on. In the figure below we plot number of appearances of each word in our training set against its rank."
   ]
  },
  {
   "cell_type": "code",
   "execution_count": 29,
   "metadata": {},
   "outputs": [],
   "source": [
    "word_freq = features_train.sum(axis=0)"
   ]
  },
  {
   "cell_type": "code",
   "execution_count": 30,
   "metadata": {},
   "outputs": [],
   "source": [
    "sorted_word_freq = np.sort(word_freq)[::-1]"
   ]
  },
  {
   "cell_type": "code",
   "execution_count": 31,
   "metadata": {},
   "outputs": [
    {
     "data": {
      "text/plain": [
       "array([51695, 48190, 27741, ...,    62,    62,    62])"
      ]
     },
     "execution_count": 31,
     "metadata": {},
     "output_type": "execute_result"
    }
   ],
   "source": [
    "sorted_word_freq"
   ]
  },
  {
   "cell_type": "code",
   "execution_count": 32,
   "metadata": {},
   "outputs": [
    {
     "data": {
      "text/plain": [
       "8.08950235140898"
      ]
     },
     "execution_count": 32,
     "metadata": {},
     "output_type": "execute_result"
    }
   ],
   "source": [
    "np.log10( (len(features_train[features_train == 0])))"
   ]
  },
  {
   "cell_type": "code",
   "execution_count": 33,
   "metadata": {},
   "outputs": [
    {
     "data": {
      "text/plain": [
       "1750150"
      ]
     },
     "execution_count": 33,
     "metadata": {},
     "output_type": "execute_result"
    }
   ],
   "source": [
    "np.count_nonzero(features_train == 1)"
   ]
  },
  {
   "cell_type": "code",
   "execution_count": 34,
   "metadata": {},
   "outputs": [
    {
     "data": {
      "text/plain": [
       "1750150"
      ]
     },
     "execution_count": 34,
     "metadata": {},
     "output_type": "execute_result"
    }
   ],
   "source": [
    "len(features_train[features_train  == 1])"
   ]
  },
  {
   "cell_type": "code",
   "execution_count": 35,
   "metadata": {},
   "outputs": [
    {
     "data": {
      "image/png": "[encoded data removed]",
      "text/plain": [
       "<Figure size 432x288 with 1 Axes>"
      ]
     },
     "metadata": {
      "needs_background": "light"
     },
     "output_type": "display_data"
    }
   ],
   "source": [
    "# Find number of occurrences for each word in the training set\n",
    "word_freq = features_train.sum(axis=0)\n",
    "\n",
    "# Sort it in descending order\n",
    "sorted_word_freq = np.sort(word_freq)[::-1]\n",
    "\n",
    "# Plot \n",
    "plt.plot(sorted_word_freq)\n",
    "plt.gca().set_xscale('log')\n",
    "plt.gca().set_yscale('log')\n",
    "plt.xlabel('Rank')\n",
    "plt.ylabel('Number of occurrences')\n",
    "plt.show()"
   ]
  },
  {
   "cell_type": "code",
   "execution_count": 36,
   "metadata": {},
   "outputs": [
    {
     "data": {
      "text/plain": [
       "51695"
      ]
     },
     "execution_count": 36,
     "metadata": {},
     "output_type": "execute_result"
    }
   ],
   "source": [
    "sorted_word_freq[0]"
   ]
  },
  {
   "cell_type": "markdown",
   "metadata": {},
   "source": [
    "#### Question: Zipf's law\n",
    "\n",
    "What is the total number of occurrences of the most frequent word? What is the the total number of occurrences of the second most frequent word? Do your numbers follow  Zipf's law? If not, why?\n",
    "\n",
    "#### Answer:\n",
    "\n",
    "...\n",
    "\n",
    "### TODO: Normalize feature vectors\n",
    "\n",
    "Bag-of-Words features are intuitive to understand as they are simply word counts. But counts can vary a lot, and potentially throw off learning algorithms later in the pipeline. So, before we proceed further, let's normalize the BoW feature vectors to have unit length.\n",
    "\n",
    "This makes sure that each document's representation retains the unique mixture of feature components, but prevents documents with large word counts from dominating those with fewer words."
   ]
  },
  {
   "cell_type": "code",
   "execution_count": 37,
   "metadata": {},
   "outputs": [
    {
     "data": {
      "text/plain": [
       "array([[0., 0., 0., ..., 0., 0., 0.],\n",
       "       [0., 0., 0., ..., 0., 0., 0.],\n",
       "       [0., 0., 0., ..., 0., 0., 0.],\n",
       "       ...,\n",
       "       [0., 0., 0., ..., 0., 0., 0.],\n",
       "       [0., 0., 0., ..., 0., 0., 0.],\n",
       "       [0., 0., 0., ..., 0., 0., 0.]])"
      ]
     },
     "execution_count": 37,
     "metadata": {},
     "output_type": "execute_result"
    }
   ],
   "source": [
    "import sklearn.preprocessing as pr\n",
    "\n",
    "# TODO: Normalize BoW features in training and test set\n",
    "pr.normalize(features_train, axis=1)\n",
    "pr.normalize(features_test, axis=1)"
   ]
  },
  {
   "cell_type": "markdown",
   "metadata": {},
   "source": [
    "## Step 4: Classification using BoW features\n",
    "\n",
    "Now that the data has all been properly transformed, we can feed it into a classifier. To get a baseline model, we train a Naive Bayes classifier from scikit-learn (specifically, [`GaussianNB`](http://scikit-learn.org/stable/modules/generated/sklearn.naive_bayes.GaussianNB.html)), and evaluate its accuracy on the test set."
   ]
  },
  {
   "cell_type": "code",
   "execution_count": 38,
   "metadata": {},
   "outputs": [
    {
     "name": "stdout",
     "output_type": "stream",
     "text": [
      "[GaussianNB] Accuracy: train = 0.7418, test = 0.6532\n"
     ]
    }
   ],
   "source": [
    "from sklearn.naive_bayes import GaussianNB\n",
    "\n",
    "# TODO: Train a Guassian Naive Bayes classifier\n",
    "clf1 = GaussianNB()\n",
    "# Train the model using the training sets\n",
    "clf1.fit(features_train,labels_train)\n",
    "\n",
    "# Calculate the mean accuracy score on training and test sets\n",
    "print(\"[{}] Accuracy: train = {}, test = {}\".format(\n",
    "        clf1.__class__.__name__,\n",
    "        clf1.score(features_train, labels_train),\n",
    "        clf1.score(features_test, labels_test)))"
   ]
  },
  {
   "cell_type": "markdown",
   "metadata": {},
   "source": [
    "Tree-based algorithms often work quite well on Bag-of-Words as their highly discontinuous and sparse nature is nicely matched by the structure of trees. As your next task, you will try to improve on the Naive Bayes classifier's performance by using scikit-learn's Gradient-Boosted Decision Tree classifer.\n",
    "\n",
    "### TODO: Gradient-Boosted Decision Tree classifier\n",
    "\n",
    "Use [`GradientBoostingClassifier`](http://scikit-learn.org/stable/modules/generated/sklearn.ensemble.GradientBoostingClassifier.html) from scikit-learn to classify the BoW data. This model has a number of parameters. We use default parameters for some of them and pre-set the rest for you, except one: `n_estimators`. Find a proper value for this hyperparameter, use it to classify the data, and report how much improvement you get over Naive Bayes in terms of accuracy.\n",
    "\n",
    "> **Tip**: Use a model selection technique such as cross-validation, grid-search, or an information criterion method, to find an optimal value for the hyperparameter."
   ]
  },
  {
   "cell_type": "code",
   "execution_count": 39,
   "metadata": {
    "scrolled": true
   },
   "outputs": [
    {
     "ename": "KeyboardInterrupt",
     "evalue": "",
     "output_type": "error",
     "traceback": [
      "\u001b[0;31m---------------------------------------------------------------------------\u001b[0m",
      "\u001b[0;31mKeyboardInterrupt\u001b[0m                         Traceback (most recent call last)",
      "\u001b[0;32m<ipython-input-39-6be1603cd4ad>\u001b[0m in \u001b[0;36m<module>\u001b[0;34m()\u001b[0m\n\u001b[1;32m     21\u001b[0m \u001b[0;34m\u001b[0m\u001b[0m\n\u001b[1;32m     22\u001b[0m \u001b[0;34m\u001b[0m\u001b[0m\n\u001b[0;32m---> 23\u001b[0;31m \u001b[0mclf2\u001b[0m \u001b[0;34m=\u001b[0m \u001b[0mclassify_gboost\u001b[0m\u001b[0;34m(\u001b[0m\u001b[0mfeatures_train\u001b[0m\u001b[0;34m,\u001b[0m \u001b[0mfeatures_test\u001b[0m\u001b[0;34m,\u001b[0m \u001b[0mlabels_train\u001b[0m\u001b[0;34m,\u001b[0m \u001b[0mlabels_test\u001b[0m\u001b[0;34m)\u001b[0m\u001b[0;34m\u001b[0m\u001b[0m\n\u001b[0m",
      "\u001b[0;32m<ipython-input-39-6be1603cd4ad>\u001b[0m in \u001b[0;36mclassify_gboost\u001b[0;34m(X_train, X_test, y_train, y_test)\u001b[0m\n\u001b[1;32m      7\u001b[0m     \u001b[0mclf\u001b[0m \u001b[0;34m=\u001b[0m \u001b[0mGradientBoostingClassifier\u001b[0m\u001b[0;34m(\u001b[0m\u001b[0mn_estimators\u001b[0m\u001b[0;34m=\u001b[0m\u001b[0mn_estimators\u001b[0m\u001b[0;34m,\u001b[0m \u001b[0mlearning_rate\u001b[0m\u001b[0;34m=\u001b[0m\u001b[0;36m1.0\u001b[0m\u001b[0;34m,\u001b[0m \u001b[0mmax_depth\u001b[0m\u001b[0;34m=\u001b[0m\u001b[0;36m1\u001b[0m\u001b[0;34m,\u001b[0m \u001b[0mrandom_state\u001b[0m\u001b[0;34m=\u001b[0m\u001b[0;36m0\u001b[0m\u001b[0;34m)\u001b[0m\u001b[0;34m\u001b[0m\u001b[0m\n\u001b[1;32m      8\u001b[0m \u001b[0;34m\u001b[0m\u001b[0m\n\u001b[0;32m----> 9\u001b[0;31m     \u001b[0mclf\u001b[0m\u001b[0;34m.\u001b[0m\u001b[0mfit\u001b[0m\u001b[0;34m(\u001b[0m\u001b[0mfeatures_train\u001b[0m\u001b[0;34m,\u001b[0m \u001b[0mlabels_train\u001b[0m\u001b[0;34m)\u001b[0m\u001b[0;34m\u001b[0m\u001b[0m\n\u001b[0m\u001b[1;32m     10\u001b[0m     \u001b[0;31m# TODO: Classify the data using GradientBoostingClassifier\u001b[0m\u001b[0;34m\u001b[0m\u001b[0;34m\u001b[0m\u001b[0m\n\u001b[1;32m     11\u001b[0m \u001b[0;34m\u001b[0m\u001b[0m\n",
      "\u001b[0;32m/opt/conda/lib/python3.6/site-packages/sklearn/ensemble/gradient_boosting.py\u001b[0m in \u001b[0;36mfit\u001b[0;34m(self, X, y, sample_weight, monitor)\u001b[0m\n\u001b[1;32m    977\u001b[0m \u001b[0;34m\u001b[0m\u001b[0m\n\u001b[1;32m    978\u001b[0m         \u001b[0;31m# Check input\u001b[0m\u001b[0;34m\u001b[0m\u001b[0;34m\u001b[0m\u001b[0m\n\u001b[0;32m--> 979\u001b[0;31m         \u001b[0mX\u001b[0m\u001b[0;34m,\u001b[0m \u001b[0my\u001b[0m \u001b[0;34m=\u001b[0m \u001b[0mcheck_X_y\u001b[0m\u001b[0;34m(\u001b[0m\u001b[0mX\u001b[0m\u001b[0;34m,\u001b[0m \u001b[0my\u001b[0m\u001b[0;34m,\u001b[0m \u001b[0maccept_sparse\u001b[0m\u001b[0;34m=\u001b[0m\u001b[0;34m[\u001b[0m\u001b[0;34m'csr'\u001b[0m\u001b[0;34m,\u001b[0m \u001b[0;34m'csc'\u001b[0m\u001b[0;34m,\u001b[0m \u001b[0;34m'coo'\u001b[0m\u001b[0;34m]\u001b[0m\u001b[0;34m,\u001b[0m \u001b[0mdtype\u001b[0m\u001b[0;34m=\u001b[0m\u001b[0mDTYPE\u001b[0m\u001b[0;34m)\u001b[0m\u001b[0;34m\u001b[0m\u001b[0m\n\u001b[0m\u001b[1;32m    980\u001b[0m         \u001b[0mn_samples\u001b[0m\u001b[0;34m,\u001b[0m \u001b[0mself\u001b[0m\u001b[0;34m.\u001b[0m\u001b[0mn_features_\u001b[0m \u001b[0;34m=\u001b[0m \u001b[0mX\u001b[0m\u001b[0;34m.\u001b[0m\u001b[0mshape\u001b[0m\u001b[0;34m\u001b[0m\u001b[0m\n\u001b[1;32m    981\u001b[0m         \u001b[0;32mif\u001b[0m \u001b[0msample_weight\u001b[0m \u001b[0;32mis\u001b[0m \u001b[0;32mNone\u001b[0m\u001b[0;34m:\u001b[0m\u001b[0;34m\u001b[0m\u001b[0m\n",
      "\u001b[0;32m/opt/conda/lib/python3.6/site-packages/sklearn/utils/validation.py\u001b[0m in \u001b[0;36mcheck_X_y\u001b[0;34m(X, y, accept_sparse, dtype, order, copy, force_all_finite, ensure_2d, allow_nd, multi_output, ensure_min_samples, ensure_min_features, y_numeric, warn_on_dtype, estimator)\u001b[0m\n\u001b[1;32m    571\u001b[0m     X = check_array(X, accept_sparse, dtype, order, copy, force_all_finite,\n\u001b[1;32m    572\u001b[0m                     \u001b[0mensure_2d\u001b[0m\u001b[0;34m,\u001b[0m \u001b[0mallow_nd\u001b[0m\u001b[0;34m,\u001b[0m \u001b[0mensure_min_samples\u001b[0m\u001b[0;34m,\u001b[0m\u001b[0;34m\u001b[0m\u001b[0m\n\u001b[0;32m--> 573\u001b[0;31m                     ensure_min_features, warn_on_dtype, estimator)\n\u001b[0m\u001b[1;32m    574\u001b[0m     \u001b[0;32mif\u001b[0m \u001b[0mmulti_output\u001b[0m\u001b[0;34m:\u001b[0m\u001b[0;34m\u001b[0m\u001b[0m\n\u001b[1;32m    575\u001b[0m         y = check_array(y, 'csr', force_all_finite=True, ensure_2d=False,\n",
      "\u001b[0;32m/opt/conda/lib/python3.6/site-packages/sklearn/utils/validation.py\u001b[0m in \u001b[0;36mcheck_array\u001b[0;34m(array, accept_sparse, dtype, order, copy, force_all_finite, ensure_2d, allow_nd, ensure_min_samples, ensure_min_features, warn_on_dtype, estimator)\u001b[0m\n\u001b[1;32m    431\u001b[0m                                       force_all_finite)\n\u001b[1;32m    432\u001b[0m     \u001b[0;32melse\u001b[0m\u001b[0;34m:\u001b[0m\u001b[0;34m\u001b[0m\u001b[0m\n\u001b[0;32m--> 433\u001b[0;31m         \u001b[0marray\u001b[0m \u001b[0;34m=\u001b[0m \u001b[0mnp\u001b[0m\u001b[0;34m.\u001b[0m\u001b[0marray\u001b[0m\u001b[0;34m(\u001b[0m\u001b[0marray\u001b[0m\u001b[0;34m,\u001b[0m \u001b[0mdtype\u001b[0m\u001b[0;34m=\u001b[0m\u001b[0mdtype\u001b[0m\u001b[0;34m,\u001b[0m \u001b[0morder\u001b[0m\u001b[0;34m=\u001b[0m\u001b[0morder\u001b[0m\u001b[0;34m,\u001b[0m \u001b[0mcopy\u001b[0m\u001b[0;34m=\u001b[0m\u001b[0mcopy\u001b[0m\u001b[0;34m)\u001b[0m\u001b[0;34m\u001b[0m\u001b[0m\n\u001b[0m\u001b[1;32m    434\u001b[0m \u001b[0;34m\u001b[0m\u001b[0m\n\u001b[1;32m    435\u001b[0m         \u001b[0;32mif\u001b[0m \u001b[0mensure_2d\u001b[0m\u001b[0;34m:\u001b[0m\u001b[0;34m\u001b[0m\u001b[0m\n",
      "\u001b[0;31mKeyboardInterrupt\u001b[0m: "
     ]
    }
   ],
   "source": [
    "from sklearn.ensemble import GradientBoostingClassifier\n",
    "\n",
    "n_estimators = 100\n",
    "\n",
    "def classify_gboost(X_train, X_test, y_train, y_test):        \n",
    "    # Initialize classifier\n",
    "    clf = GradientBoostingClassifier(n_estimators=n_estimators, learning_rate=1.0, max_depth=1, random_state=0)\n",
    "\n",
    "    clf.fit(features_train, labels_train)\n",
    "    # TODO: Classify the data using GradientBoostingClassifier\n",
    "    \n",
    "    # TODO(optional): Perform hyperparameter tuning / model selection\n",
    "    \n",
    "    # TODO: Print final training & test accuracy\n",
    "    print(\"[{}] Accuracy: train = {}, test = {}\".format(\n",
    "        clf.__class__.__name__,\n",
    "        clf.score(features_train, labels_train),\n",
    "        clf.score(features_test, labels_test)))\n",
    "    # Return best classifier model\n",
    "    return clf\n",
    "\n",
    "\n",
    "clf2 = classify_gboost(features_train, features_test, labels_train, labels_test)"
   ]
  },
  {
   "cell_type": "markdown",
   "metadata": {},
   "source": [
    "### TODO: Adverserial testing\n",
    "\n",
    "Write a short movie review to trick your machine learning model! That is, a movie review with a clear positive or negative sentiment that your model will classify incorrectly.\n",
    "\n",
    "> **Hint**: You might want to take advantage of the biggest weakness of the Bag-of-Words scheme!"
   ]
  },
  {
   "cell_type": "code",
   "execution_count": 59,
   "metadata": {},
   "outputs": [],
   "source": [
    "# TODO: Write a sample review and set its true sentiment\n",
    "my_review = \"I thought it would be just like all the other boring sequels that are coming out everyday. But had I not gone, I would've missed out on a treat. Not only was it not boring, it kept me at the edge of my seat till the end.\"\n",
    "#my_review = \"\"\n",
    "true_sentiment = 'pos'  # sentiment must be 'pos' or 'neg'"
   ]
  },
  {
   "cell_type": "code",
   "execution_count": 74,
   "metadata": {},
   "outputs": [
    {
     "data": {
      "text/plain": [
       "220"
      ]
     },
     "execution_count": 74,
     "metadata": {},
     "output_type": "execute_result"
    }
   ],
   "source": [
    "len(my_review)"
   ]
  },
  {
   "cell_type": "code",
   "execution_count": 76,
   "metadata": {},
   "outputs": [
    {
     "data": {
      "text/plain": [
       "<map at 0x7f730767ec50>"
      ]
     },
     "execution_count": 76,
     "metadata": {},
     "output_type": "execute_result"
    }
   ],
   "source": [
    "words"
   ]
  },
  {
   "cell_type": "code",
   "execution_count": 80,
   "metadata": {},
   "outputs": [],
   "source": [
    "words = review_to_words(my_review)"
   ]
  },
  {
   "cell_type": "code",
   "execution_count": 81,
   "metadata": {},
   "outputs": [
    {
     "data": {
      "text/plain": [
       "['test', 'test', 'would', 'make', 'great', 'movi', 'review']"
      ]
     },
     "execution_count": 81,
     "metadata": {},
     "output_type": "execute_result"
    }
   ],
   "source": [
    "words"
   ]
  },
  {
   "cell_type": "code",
   "execution_count": 65,
   "metadata": {},
   "outputs": [
    {
     "data": {
      "text/plain": [
       "array([0, 0, 0, ..., 0, 0, 0])"
      ]
     },
     "execution_count": 65,
     "metadata": {},
     "output_type": "execute_result"
    }
   ],
   "source": [
    "features_train[0]"
   ]
  },
  {
   "cell_type": "code",
   "execution_count": 82,
   "metadata": {},
   "outputs": [
    {
     "data": {
      "text/plain": [
       "array([[0, 0, 0, ..., 0, 0, 0],\n",
       "       [0, 0, 0, ..., 0, 0, 0],\n",
       "       [0, 0, 0, ..., 0, 0, 0],\n",
       "       ...,\n",
       "       [0, 0, 0, ..., 0, 0, 0],\n",
       "       [0, 0, 0, ..., 0, 0, 0],\n",
       "       [0, 0, 0, ..., 0, 0, 0]])"
      ]
     },
     "execution_count": 82,
     "metadata": {},
     "output_type": "execute_result"
    }
   ],
   "source": [
    "vectorizer.(words).toarray()"
   ]
  },
  {
   "cell_type": "code",
   "execution_count": 60,
   "metadata": {},
   "outputs": [
    {
     "data": {
      "text/plain": [
       "array(['neg'], dtype='<U3')"
      ]
     },
     "execution_count": 60,
     "metadata": {},
     "output_type": "execute_result"
    }
   ],
   "source": [
    "\n",
    "\n",
    "pre_processed = review_to_words(my_review)\n",
    "# TODO: Apply the same preprocessing and vectorizing steps as you did for your training data\n",
    "\n",
    "vectorizer = CountVectorizer(vocabulary=vocabulary,\n",
    "                             preprocessor=lambda x: x, tokenizer=lambda x: x)  # already preprocessed\n",
    "my_bow_features = vectorizer.transform([pre_processed]).toarray()  # pass an array of 1 element\n",
    "# TODO: Then call your classifier to label it\n",
    "clf1.predict(my_bow_features)"
   ]
  },
  {
   "cell_type": "code",
   "execution_count": 30,
   "metadata": {},
   "outputs": [
    {
     "data": {
      "text/plain": [
       "{'movi': 2972,\n",
       " 'make': 2757,\n",
       " 'cri': 1115,\n",
       " 'end': 1531,\n",
       " 'watch': 4844,\n",
       " 'least': 2608,\n",
       " '3': 73,\n",
       " '4': 79,\n",
       " 'week': 4867,\n",
       " 'seen': 3926,\n",
       " 'load': 2680,\n",
       " 'great': 2019,\n",
       " 'even': 1597,\n",
       " 'crap': 1095,\n",
       " 'one': 3155,\n",
       " 'scene': 3876,\n",
       " 'core': 1062,\n",
       " 'came': 706,\n",
       " 'seriou': 3955,\n",
       " 'problem': 3471,\n",
       " 'stori': 4271,\n",
       " 'noth': 3098,\n",
       " 'new': 3051,\n",
       " 'origin': 3173,\n",
       " 'real': 3606,\n",
       " 'sort': 4147,\n",
       " 'thing': 4484,\n",
       " 'realli': 3612,\n",
       " 'happen': 2090,\n",
       " 'peopl': 3283,\n",
       " 'exist': 1629,\n",
       " 'music': 2990,\n",
       " 'admir': 150,\n",
       " 'went': 4875,\n",
       " 'earli': 1451,\n",
       " '70': 88,\n",
       " 'point': 3370,\n",
       " 'direct': 1318,\n",
       " 'toward': 4563,\n",
       " 'never': 3049,\n",
       " 'work': 4944,\n",
       " 'good': 1989,\n",
       " 'us': 4721,\n",
       " 'believ': 482,\n",
       " 'tri': 4601,\n",
       " 'path': 3260,\n",
       " 'full': 1883,\n",
       " 'gloriou': 1972,\n",
       " 'concert': 995,\n",
       " 'present': 3436,\n",
       " 'musician': 2991,\n",
       " 'superhero': 4356,\n",
       " 'girl': 1957,\n",
       " 'stupid': 4310,\n",
       " 'emot': 1517,\n",
       " 'numb': 3110,\n",
       " 'glorifi': 1971,\n",
       " 'drug': 1421,\n",
       " 'alcohol': 198,\n",
       " 'promot': 3492,\n",
       " 'redempt': 3633,\n",
       " 'come': 952,\n",
       " '20': 56,\n",
       " 'year': 4981,\n",
       " 'late': 2581,\n",
       " 'sinc': 4051,\n",
       " 'leav': 2610,\n",
       " 'la': 2559,\n",
       " 'vega': 4754,\n",
       " 'move': 2970,\n",
       " 'blond': 551,\n",
       " 'pamela': 3228,\n",
       " 'anderson': 252,\n",
       " 'richard': 3742,\n",
       " 'almost': 216,\n",
       " 'everi': 1601,\n",
       " 'want': 4830,\n",
       " 'utterli': 4730,\n",
       " 'feel': 1721,\n",
       " 'like': 2654,\n",
       " 'era': 1571,\n",
       " 'carri': 752,\n",
       " 'seri': 3953,\n",
       " 'longer': 2693,\n",
       " 'trail': 4576,\n",
       " 'still': 4255,\n",
       " 'funni': 1891,\n",
       " 'think': 4485,\n",
       " 'behind': 478,\n",
       " 'england': 1541,\n",
       " 'far': 1692,\n",
       " 'mark': 2784,\n",
       " 'bubbl': 659,\n",
       " 'charm': 819,\n",
       " 'clearli': 895,\n",
       " 'awar': 391,\n",
       " 'masterpiec': 2802,\n",
       " 'although': 225,\n",
       " 'give': 1959,\n",
       " 'lot': 2702,\n",
       " 'told': 4536,\n",
       " 'support': 4361,\n",
       " 'cast': 762,\n",
       " 'energet': 1536,\n",
       " 'particularli': 3250,\n",
       " 'see': 3920,\n",
       " 'coupl': 1083,\n",
       " 'turn': 4630,\n",
       " 'alreadi': 220,\n",
       " 'practic': 3413,\n",
       " 'forgotten': 1827,\n",
       " 'much': 2977,\n",
       " 'differ': 1304,\n",
       " 'anyth': 284,\n",
       " 'smile': 4106,\n",
       " 'ace': 129,\n",
       " 'hope': 2202,\n",
       " 'hate': 2109,\n",
       " 'blood': 552,\n",
       " 'castl': 763,\n",
       " 'aka': 188,\n",
       " 'scream': 3895,\n",
       " 'demon': 1249,\n",
       " 'lover': 2710,\n",
       " 'best': 498,\n",
       " 'exploit': 1644,\n",
       " 'cinema': 871,\n",
       " 'sound': 4149,\n",
       " 'titl': 4528,\n",
       " 'tradit': 4572,\n",
       " 'gothic': 1997,\n",
       " 'romanc': 3784,\n",
       " 'film': 1750,\n",
       " 'mean': 2822,\n",
       " 'big': 510,\n",
       " 'creepi': 1113,\n",
       " 'young': 4989,\n",
       " 'woman': 4934,\n",
       " 'mysteri': 2998,\n",
       " 'older': 3149,\n",
       " 'man': 2763,\n",
       " 'hint': 2164,\n",
       " 'horror': 2213,\n",
       " 'supernatur': 4359,\n",
       " 'element': 1496,\n",
       " 'contemporari': 1031,\n",
       " 'sens': 3938,\n",
       " 'genr': 1934,\n",
       " 'term': 4460,\n",
       " 'also': 222,\n",
       " 'deliber': 1238,\n",
       " 'pace': 3209,\n",
       " 'fan': 1687,\n",
       " 'love': 2709,\n",
       " 'robert': 3770,\n",
       " 'wise': 4924,\n",
       " 'haunt': 2111,\n",
       " 'tast': 4426,\n",
       " '1960': 24,\n",
       " '1970': 27,\n",
       " 'spanish': 4162,\n",
       " 'italian': 2414,\n",
       " 'may': 2814,\n",
       " 'well': 4872,\n",
       " 'carlo': 746,\n",
       " 'live': 2677,\n",
       " 'larg': 2577,\n",
       " 'european': 1592,\n",
       " 'villag': 4784,\n",
       " 'local': 2682,\n",
       " 'fear': 1715,\n",
       " 'legend': 2618,\n",
       " 'whenev': 4886,\n",
       " 'bed': 468,\n",
       " 'soon': 4140,\n",
       " 'dead': 1198,\n",
       " 'set': 3961,\n",
       " 'dog': 1369,\n",
       " 'quit': 3554,\n",
       " 'healthi': 2119,\n",
       " 'women': 4935,\n",
       " 'begin': 474,\n",
       " 'yet': 4986,\n",
       " 'anoth': 268,\n",
       " 'meanwhil': 2827,\n",
       " 'dr': 1393,\n",
       " 'appear': 293,\n",
       " 'center': 784,\n",
       " 'ask': 334,\n",
       " 'taken': 4411,\n",
       " 'hire': 2167,\n",
       " 'chemistri': 830,\n",
       " 'cours': 1085,\n",
       " 'go': 1975,\n",
       " 'near': 3021,\n",
       " 'final': 1753,\n",
       " 'find': 1756,\n",
       " 'individu': 2323,\n",
       " 'becom': 467,\n",
       " 'take': 4410,\n",
       " 'odd': 3134,\n",
       " 'reject': 3655,\n",
       " 'say': 3866,\n",
       " 'whether': 4888,\n",
       " 'stay': 4240,\n",
       " 'somewhat': 4136,\n",
       " 'revers': 3729,\n",
       " 'effect': 1480,\n",
       " 'sever': 3966,\n",
       " 'burn': 678,\n",
       " 'brother': 650,\n",
       " 'suffer': 4334,\n",
       " 'unfortun': 4682,\n",
       " 'flesh': 1785,\n",
       " 'bizarr': 529,\n",
       " 'furthermor': 1896,\n",
       " 'dream': 1404,\n",
       " 'respons': 3710,\n",
       " 'crime': 1116,\n",
       " 'insan': 2351,\n",
       " 'mention': 2849,\n",
       " 'underst': 4669,\n",
       " 'either': 1488,\n",
       " 'way': 4851,\n",
       " 'materi': 2805,\n",
       " 'care': 737,\n",
       " 'ye': 4979,\n",
       " 'small': 4101,\n",
       " 'minor': 2898,\n",
       " 'favorit': 1710,\n",
       " 'director': 1320,\n",
       " 'mario': 2782,\n",
       " 'period': 3293,\n",
       " 'occasion': 3129,\n",
       " 'bit': 524,\n",
       " 'slow': 4097,\n",
       " 'time': 4519,\n",
       " 'amount': 246,\n",
       " 'excit': 1622,\n",
       " 'talk': 4414,\n",
       " 'altern': 224,\n",
       " 'slowli': 4098,\n",
       " 'walk': 4818,\n",
       " 'atmospher': 357,\n",
       " 'decent': 1213,\n",
       " 'jo': 2458,\n",
       " 'lui': 2724,\n",
       " 'manag': 2764,\n",
       " 'passabl': 3254,\n",
       " 'locat': 2683,\n",
       " 'shot': 4012,\n",
       " 'fairli': 1676,\n",
       " 'howev': 2226,\n",
       " 'rel': 3656,\n",
       " 'low': 2711,\n",
       " 'budget': 663,\n",
       " 'roger': 3779,\n",
       " 'corman': 1063,\n",
       " 'produc': 3476,\n",
       " 'usual': 4727,\n",
       " 'though': 4491,\n",
       " 'often': 3142,\n",
       " 'surprisingli': 4371,\n",
       " 'high': 2155,\n",
       " 'qualiti': 3543,\n",
       " 'lush': 2731,\n",
       " 'color': 945,\n",
       " 'complex': 979,\n",
       " 'decor': 1219,\n",
       " 'everyth': 1605,\n",
       " 'help': 2141,\n",
       " 'print': 3464,\n",
       " 'look': 2694,\n",
       " '30': 74,\n",
       " 'old': 3148,\n",
       " 'photograph': 3319,\n",
       " 'left': 2614,\n",
       " 'sun': 4347,\n",
       " 'long': 2692,\n",
       " 'wash': 4841,\n",
       " 'compromis': 987,\n",
       " 'contrast': 1040,\n",
       " 'fantast': 1691,\n",
       " 'visual': 4798,\n",
       " 'exampl': 1617,\n",
       " 'exagger': 1615,\n",
       " 'angl': 259,\n",
       " 'import': 2290,\n",
       " 'plot': 3362,\n",
       " 'reveal': 3726,\n",
       " 'shadow': 3972,\n",
       " 'wall': 4821,\n",
       " 'actor': 139,\n",
       " 'exquisit': 1651,\n",
       " 'block': 549,\n",
       " 'impli': 2288,\n",
       " 'relationship': 3658,\n",
       " 'besid': 497,\n",
       " 'attract': 368,\n",
       " 'pull': 3523,\n",
       " 'eye': 1659,\n",
       " 'deep': 1224,\n",
       " 'frame': 1845,\n",
       " 'perform': 3290,\n",
       " 'especi': 1577,\n",
       " 'fact': 1667,\n",
       " 'incorpor': 2311,\n",
       " 'nuditi': 3109,\n",
       " 'number': 3111,\n",
       " 'soft': 4122,\n",
       " 'corn': 1064,\n",
       " 'porn': 3392,\n",
       " 'english': 1542,\n",
       " 'sex': 3967,\n",
       " 'life': 2646,\n",
       " 'prison': 3466,\n",
       " '1974': 31,\n",
       " 'nake': 3005,\n",
       " 'lust': 2732,\n",
       " 'strip': 4291,\n",
       " 'nude': 3108,\n",
       " 'killer': 2528,\n",
       " 'erot': 1573,\n",
       " 'sexi': 3968,\n",
       " 'seduc': 3918,\n",
       " '1977': 33,\n",
       " 'addit': 147,\n",
       " 'mild': 2878,\n",
       " 'suggest': 4338,\n",
       " 'rape': 3586,\n",
       " 'bondag': 574,\n",
       " 'mix': 2918,\n",
       " 'death': 1206,\n",
       " 'primari': 3456,\n",
       " 'probabl': 3470,\n",
       " 'els': 1506,\n",
       " 'unexpect': 4676,\n",
       " 'twist': 4639,\n",
       " 'overcom': 3196,\n",
       " 'variou': 4751,\n",
       " 'difficulti': 1306,\n",
       " 'physic': 3322,\n",
       " 'threat': 4495,\n",
       " 'harm': 2099,\n",
       " 'togeth': 4532,\n",
       " 'plain': 3344,\n",
       " 'bad': 410,\n",
       " 'worth': 4953,\n",
       " 'fun': 1886,\n",
       " 'professor': 3481,\n",
       " 'annoy': 267,\n",
       " 'suspend': 4378,\n",
       " 'disbelief': 1330,\n",
       " 'allow': 215,\n",
       " 'invis': 2395,\n",
       " 'sake': 3842,\n",
       " 'victim': 4772,\n",
       " 'room': 3792,\n",
       " 'shower': 4019,\n",
       " 'random': 3579,\n",
       " 'sexual': 3969,\n",
       " 'encount': 1529,\n",
       " 'get': 1944,\n",
       " 'someth': 4134,\n",
       " 'simpli': 4044,\n",
       " 'wast': 4843,\n",
       " 'rent': 3681,\n",
       " 'better': 502,\n",
       " 'decid': 1215,\n",
       " 'check': 825,\n",
       " 'rex': 3737,\n",
       " 'bill': 517,\n",
       " 'hell': 2138,\n",
       " 'silli': 4037,\n",
       " 'might': 2874,\n",
       " 'play': 3352,\n",
       " 'dinosaur': 1316,\n",
       " 'convinc': 1051,\n",
       " 'actual': 141,\n",
       " 'rough': 3804,\n",
       " 'design': 1272,\n",
       " 'artist': 326,\n",
       " 'later': 2582,\n",
       " 'use': 4723,\n",
       " 'finish': 1760,\n",
       " 'cgi': 793,\n",
       " 'ad': 142,\n",
       " 'detail': 1284,\n",
       " 'movement': 2971,\n",
       " 'etc': 1585,\n",
       " 'absolut': 109,\n",
       " 'aw': 387,\n",
       " 'reason': 3615,\n",
       " 'sit': 4062,\n",
       " 'anyway': 285,\n",
       " 'redeem': 3632,\n",
       " 'factor': 1668,\n",
       " 'kept': 2518,\n",
       " 'interest': 2377,\n",
       " 'could': 1075,\n",
       " 'disappoint': 1327,\n",
       " 'crew': 1114,\n",
       " 'got': 1996,\n",
       " 'free': 1859,\n",
       " 'trip': 4611,\n",
       " 'kid': 2523,\n",
       " '50': 84,\n",
       " '60': 86,\n",
       " 'connect': 1009,\n",
       " 'disney': 1345,\n",
       " 'definit': 1233,\n",
       " 'abl': 100,\n",
       " 'actress': 140,\n",
       " 'somehow': 4132,\n",
       " 'screw': 3899,\n",
       " 'spite': 4191,\n",
       " 'abund': 112,\n",
       " 'resourc': 3707,\n",
       " 'afford': 167,\n",
       " 'writer': 4967,\n",
       " 'sad': 3833,\n",
       " 'suspect': 4377,\n",
       " 'arrog': 320,\n",
       " 'know': 2545,\n",
       " 'due': 1430,\n",
       " 'talent': 4413,\n",
       " '10': 4,\n",
       " 'alexandr': 203,\n",
       " 'partner': 3252,\n",
       " 'compani': 967,\n",
       " 'georg': 1938,\n",
       " 'first': 1764,\n",
       " 'contract': 1037,\n",
       " 'profession': 3480,\n",
       " 'murder': 2985,\n",
       " 'explain': 1640,\n",
       " 'guy': 2062,\n",
       " 'receiv': 3618,\n",
       " 'money': 2937,\n",
       " 'start': 4233,\n",
       " 'blackmail': 531,\n",
       " 'two': 4640,\n",
       " 'job': 2460,\n",
       " 'meet': 2835,\n",
       " 'daughter': 1189,\n",
       " 'date': 1188,\n",
       " 'corrupt': 1071,\n",
       " 'betray': 500,\n",
       " 'hand': 2083,\n",
       " 'innoc': 2349,\n",
       " 'except': 1619,\n",
       " 'made': 2742,\n",
       " 'person': 3297,\n",
       " 'anyon': 283,\n",
       " 'portray': 3397,\n",
       " 'cruel': 1131,\n",
       " 'realiti': 3610,\n",
       " 'day': 1195,\n",
       " 'presenc': 3435,\n",
       " 'ironi': 2403,\n",
       " 'charact': 808,\n",
       " 'brilliantli': 634,\n",
       " 'paid': 3216,\n",
       " 'without': 4929,\n",
       " 'flirt': 1790,\n",
       " 'kill': 2527,\n",
       " 'must': 2993,\n",
       " 'monster': 2942,\n",
       " 'brazil': 614,\n",
       " 'place': 3342,\n",
       " 'truth': 4624,\n",
       " 'act': 136,\n",
       " 'soundtrack': 4150,\n",
       " 'seem': 3924,\n",
       " 'curs': 1149,\n",
       " 'gay': 1924,\n",
       " 'name': 3006,\n",
       " 'happi': 2091,\n",
       " 'common': 964,\n",
       " 'beauti': 465,\n",
       " 'tend': 4455,\n",
       " 'broken': 644,\n",
       " 'creator': 1107,\n",
       " 'horrid': 2210,\n",
       " 'piec': 3328,\n",
       " 'nonsens': 3085,\n",
       " 'learn': 2607,\n",
       " 'within': 4928,\n",
       " 'ten': 4453,\n",
       " 'minut': 2900,\n",
       " 'found': 1839,\n",
       " 'confus': 1007,\n",
       " 'glimps': 1967,\n",
       " 'jeremi': 2445,\n",
       " 'littl': 2675,\n",
       " 'psych': 3514,\n",
       " 'session': 3960,\n",
       " 'randomli': 3580,\n",
       " 'slightest': 4092,\n",
       " 'attempt': 362,\n",
       " 'continu': 1036,\n",
       " 'consist': 1021,\n",
       " 'tell': 4449,\n",
       " 'view': 4779,\n",
       " 'flashback': 1777,\n",
       " 'becam': 466,\n",
       " 'truli': 4621,\n",
       " 'stephen': 4248,\n",
       " 'york': 4988,\n",
       " 'call': 703,\n",
       " 'invest': 2393,\n",
       " 'beer': 470,\n",
       " 'prior': 3465,\n",
       " 'prais': 3414,\n",
       " 'expect': 1633,\n",
       " 'sadli': 3835,\n",
       " 'provid': 3510,\n",
       " 'resolut': 3703,\n",
       " 'whatsoev': 4884,\n",
       " 'add': 145,\n",
       " 'terribl': 4463,\n",
       " 'doubt': 1386,\n",
       " 'worst': 4952,\n",
       " 'ever': 1600,\n",
       " 'men': 2846,\n",
       " 'program': 3485,\n",
       " 'tv': 4633,\n",
       " 'main': 2752,\n",
       " 'episod': 1565,\n",
       " 'unlik': 4698,\n",
       " 'today': 4529,\n",
       " 'show': 4016,\n",
       " 'concentr': 992,\n",
       " '1': 3,\n",
       " '2': 55,\n",
       " 'per': 3285,\n",
       " 'everyon': 1604,\n",
       " 'shove': 4015,\n",
       " 'side': 4027,\n",
       " 'brain': 607,\n",
       " 'obscur': 3121,\n",
       " 'wrong': 4969,\n",
       " 'tackl': 4405,\n",
       " 'divers': 1360,\n",
       " 'rang': 3581,\n",
       " 'topic': 4551,\n",
       " 'case': 756,\n",
       " 'racism': 3561,\n",
       " 'adopt': 154,\n",
       " 'terrorist': 4468,\n",
       " 'technolog': 4442,\n",
       " '24': 69,\n",
       " 'class': 888,\n",
       " 'releas': 3660,\n",
       " '8': 91,\n",
       " 'season': 3908,\n",
       " 'dvd': 1442,\n",
       " 'order': 3169,\n",
       " 'adapt': 144,\n",
       " 'spirit': 4188,\n",
       " 'screen': 3896,\n",
       " 'follow': 1806,\n",
       " 'mani': 2766,\n",
       " 'offer': 3139,\n",
       " 'develop': 1289,\n",
       " 'comic': 957,\n",
       " 'page': 3215,\n",
       " 'book': 579,\n",
       " 'rememb': 3673,\n",
       " 'exactli': 1614,\n",
       " 'medium': 2834,\n",
       " 'inde': 2316,\n",
       " 'iron': 2402,\n",
       " 'write': 4966,\n",
       " 'smart': 4103,\n",
       " 'alec': 199,\n",
       " 'crack': 1092,\n",
       " 'tongu': 4544,\n",
       " 'cheek': 826,\n",
       " 'super': 4352,\n",
       " 'hero': 2146,\n",
       " 'pictur': 3326,\n",
       " 'version': 4763,\n",
       " 'owner': 3206,\n",
       " 'mid': 2871,\n",
       " '40': 80,\n",
       " 'close': 913,\n",
       " 'deal': 1201,\n",
       " 'serial': 3954,\n",
       " 'mask': 2796,\n",
       " 'marvel': 2795,\n",
       " 'perhap': 3291,\n",
       " 'studio': 4305,\n",
       " 'pulp': 3524,\n",
       " 'radio': 3565,\n",
       " '1987': 42,\n",
       " 'pretti': 3446,\n",
       " 'obviou': 3126,\n",
       " 'fail': 1671,\n",
       " 'pilot': 3332,\n",
       " 'propos': 3503,\n",
       " 'televis': 4448,\n",
       " 'wherea': 4887,\n",
       " 'reader': 3604,\n",
       " 'harsh': 2104,\n",
       " 'critic': 1121,\n",
       " 'viewer': 4780,\n",
       " 'fresh': 1865,\n",
       " 'observ': 3122,\n",
       " 'clear': 894,\n",
       " 'notion': 3100,\n",
       " 'unfold': 4680,\n",
       " 'interact': 2376,\n",
       " 'wave': 4849,\n",
       " 'ladi': 2566,\n",
       " 'wife': 4905,\n",
       " 'mr': 2973,\n",
       " 'ryan': 3829,\n",
       " 'nail': 3003,\n",
       " 'statement': 4236,\n",
       " 'mind': 2890,\n",
       " 'describ': 1268,\n",
       " 'true': 4620,\n",
       " 'creativ': 1106,\n",
       " 'geniu': 1933,\n",
       " 'sincer': 4052,\n",
       " 'put': 3538,\n",
       " 'world': 4946,\n",
       " 'denni': 1253,\n",
       " 'ellen': 1504,\n",
       " 'done': 1377,\n",
       " 'costum': 1073,\n",
       " 'goe': 1980,\n",
       " 'wore': 4943,\n",
       " 'hat': 2108,\n",
       " 'bring': 635,\n",
       " 'meander': 2823,\n",
       " 'product': 3477,\n",
       " 'consciou': 1015,\n",
       " 'effort': 1482,\n",
       " 'succeed': 4327,\n",
       " 'facial': 1665,\n",
       " 'express': 1650,\n",
       " 'bodi': 566,\n",
       " 'languag': 2576,\n",
       " 'kudo': 2552,\n",
       " 'oh': 3143,\n",
       " 'motion': 2963,\n",
       " 'hot': 2219,\n",
       " 'item': 2415,\n",
       " 'mayb': 2815,\n",
       " '1st': 54,\n",
       " 'updat': 4714,\n",
       " 'chicago': 835,\n",
       " '6': 85,\n",
       " '2008': 65,\n",
       " 'shop': 4007,\n",
       " 'centr': 785,\n",
       " 'poster': 3404,\n",
       " 'advertis': 160,\n",
       " 'subtitl': 4322,\n",
       " 'citi': 878,\n",
       " 'christma': 862,\n",
       " 'keep': 2511,\n",
       " 'finger': 1759,\n",
       " 'cross': 1125,\n",
       " 'ii': 2266,\n",
       " 'saw': 3865,\n",
       " 'frank': 1851,\n",
       " 'miller': 2885,\n",
       " 'rendit': 3680,\n",
       " 'ago': 179,\n",
       " 'wish': 4925,\n",
       " 'pleas': 3355,\n",
       " 'read': 3603,\n",
       " 'elsewher': 1507,\n",
       " 'imdb': 2277,\n",
       " 'com': 948,\n",
       " 'sutherland': 4383,\n",
       " 'histori': 2169,\n",
       " 'conclus': 997,\n",
       " 'gonna': 1988,\n",
       " 'spend': 4176,\n",
       " '15': 11,\n",
       " 'appli': 296,\n",
       " 'eva': 1593,\n",
       " 'revolv': 3735,\n",
       " 'around': 316,\n",
       " 'secret': 3913,\n",
       " 'servic': 3959,\n",
       " 'agent': 177,\n",
       " 'plan': 3345,\n",
       " 'assassin': 339,\n",
       " 'presid': 3438,\n",
       " 'investig': 2394,\n",
       " 'candid': 719,\n",
       " 'highli': 2158,\n",
       " 'pete': 3304,\n",
       " 'michael': 2868,\n",
       " 'dougla': 1387,\n",
       " 'style': 4311,\n",
       " 'search': 3907,\n",
       " 'solid': 4126,\n",
       " 'certainli': 791,\n",
       " 'spectacular': 4172,\n",
       " 'empti': 1525,\n",
       " 'wors': 4950,\n",
       " 'jason': 2434,\n",
       " 'bourn': 596,\n",
       " 'cia': 868,\n",
       " 'chief': 838,\n",
       " 'nyc': 3116,\n",
       " 'outlin': 3189,\n",
       " 'agenc': 175,\n",
       " 'american': 240,\n",
       " 'flag': 1773,\n",
       " 'stand': 4224,\n",
       " 'speak': 4167,\n",
       " 'slip': 4095,\n",
       " 'focu': 1801,\n",
       " 'moral': 2952,\n",
       " 'territori': 4466,\n",
       " 'associ': 346,\n",
       " 'action': 137,\n",
       " 'govern': 2000,\n",
       " 'necessari': 3026,\n",
       " 'nation': 3015,\n",
       " 'secur': 3917,\n",
       " 'captur': 733,\n",
       " 'mood': 2948,\n",
       " 'quest': 3546,\n",
       " 'examin': 1616,\n",
       " 'human': 2236,\n",
       " 'cost': 1072,\n",
       " 'measur': 2828,\n",
       " 'protect': 3506,\n",
       " 'intens': 2374,\n",
       " 'simon': 4042,\n",
       " 'ross': 3800,\n",
       " 'newspap': 3057,\n",
       " 'audienc': 370,\n",
       " 'camera': 708,\n",
       " 'shake': 3973,\n",
       " 'remain': 3670,\n",
       " 'steadi': 4241,\n",
       " 'enough': 1549,\n",
       " 'instead': 2363,\n",
       " 'written': 4968,\n",
       " 'role': 3780,\n",
       " 'brutal': 655,\n",
       " 'fast': 1702,\n",
       " 'choreograph': 852,\n",
       " 'instinct': 2364,\n",
       " 'stunt': 4309,\n",
       " 'short': 4008,\n",
       " 'amaz': 233,\n",
       " 'incred': 2315,\n",
       " 'drive': 1413,\n",
       " 'forward': 1835,\n",
       " 'struggl': 4300,\n",
       " 'script': 3900,\n",
       " 'deliv': 1242,\n",
       " 'inform': 2336,\n",
       " 'need': 3030,\n",
       " 'quickli': 3549,\n",
       " 'possibl': 3402,\n",
       " 'next': 3058,\n",
       " 'tens': 4458,\n",
       " 'simpl': 4043,\n",
       " 'sequenc': 3951,\n",
       " 'essenti': 1579,\n",
       " 'phone': 3316,\n",
       " 'charg': 812,\n",
       " 'dramat': 1400,\n",
       " 'focus': 1802,\n",
       " 'power': 3412,\n",
       " 'swept': 4390,\n",
       " 'along': 218,\n",
       " 'storylin': 4273,\n",
       " 'intellig': 2372,\n",
       " 'decis': 1216,\n",
       " 'accur': 126,\n",
       " 'ambigu': 236,\n",
       " 'age': 174,\n",
       " 'peak': 3276,\n",
       " 'nerv': 3044,\n",
       " 'stallon': 4222,\n",
       " 'alway': 229,\n",
       " 'surpris': 4370,\n",
       " 'john': 2465,\n",
       " 'excel': 1618,\n",
       " 'villain': 4785,\n",
       " 'theme': 4478,\n",
       " 'pack': 3212,\n",
       " 'dull': 1433,\n",
       " 'cliffhang': 903,\n",
       " 'die': 1303,\n",
       " 'breed': 622,\n",
       " 'loss': 2700,\n",
       " 'prejudic': 3428,\n",
       " 'stop': 4269,\n",
       " 'analyz': 249,\n",
       " 'western': 4878,\n",
       " 'loud': 2704,\n",
       " 'offend': 3137,\n",
       " 'social': 4119,\n",
       " 'engin': 1540,\n",
       " 'sensibl': 3941,\n",
       " 'back': 405,\n",
       " 'comfort': 956,\n",
       " 'meryl': 2854,\n",
       " 'collect': 940,\n",
       " 'bore': 583,\n",
       " 'tediou': 4444,\n",
       " 'tiresom': 4526,\n",
       " 'celluloid': 780,\n",
       " 'light': 2651,\n",
       " 'hackman': 2067,\n",
       " 'intrigu': 2387,\n",
       " 'unless': 4697,\n",
       " 'obsess': 3123,\n",
       " '19th': 53,\n",
       " 'centuri': 787,\n",
       " 'desert': 1270,\n",
       " 'constant': 1023,\n",
       " 'mexican': 2863,\n",
       " 'tooth': 4549,\n",
       " 'monument': 2947,\n",
       " 'ultra': 4649,\n",
       " 'creep': 1112,\n",
       " 'sensit': 3942,\n",
       " 'virtual': 4792,\n",
       " 'imposs': 2293,\n",
       " 'entir': 1559,\n",
       " 'rather': 3592,\n",
       " 'open': 3158,\n",
       " 'lucki': 2720,\n",
       " 'luke': 2726,\n",
       " 'hors': 2214,\n",
       " 'n': 3002,\n",
       " 'vincent': 4786,\n",
       " 'price': 3452,\n",
       " 'among': 243,\n",
       " 'greatest': 2021,\n",
       " 'gem': 1927,\n",
       " 'achiev': 130,\n",
       " 'brilliant': 633,\n",
       " 'poe': 3365,\n",
       " 'cycl': 1158,\n",
       " 'reev': 3639,\n",
       " 'gener': 1930,\n",
       " '1968': 25,\n",
       " 'last': 2580,\n",
       " 'earth': 1455,\n",
       " 'ultim': 4648,\n",
       " 'highlight': 2159,\n",
       " 'career': 738,\n",
       " 'famou': 1686,\n",
       " 'immort': 2284,\n",
       " 'icon': 2255,\n",
       " 'hous': 2222,\n",
       " 'wax': 4850,\n",
       " 'rise': 3755,\n",
       " 'mad': 2741,\n",
       " 'magician': 2748,\n",
       " 'similar': 4039,\n",
       " 'success': 4328,\n",
       " 'predecessor': 3424,\n",
       " 'delight': 1241,\n",
       " 'macabr': 2736,\n",
       " 'wonder': 4936,\n",
       " 'line': 2661,\n",
       " 'would': 4957,\n",
       " 'miss': 2910,\n",
       " 'none': 3083,\n",
       " 'fellow': 1725,\n",
       " 'star': 4229,\n",
       " 'underr': 4668,\n",
       " 'master': 2801,\n",
       " 'magic': 2747,\n",
       " 'devic': 1290,\n",
       " 'whose': 4898,\n",
       " 'boss': 588,\n",
       " 'sleazi': 4085,\n",
       " 'businessman': 684,\n",
       " 'stole': 4263,\n",
       " 'away': 393,\n",
       " 'ingeni': 2337,\n",
       " 'invent': 2392,\n",
       " 'rival': 3761,\n",
       " 'snap': 4111,\n",
       " 'spree': 4207,\n",
       " 'reveng': 3728,\n",
       " 'abomin': 101,\n",
       " '1971': 28,\n",
       " 'theater': 4475,\n",
       " '1973': 30,\n",
       " 'absurd': 111,\n",
       " 'earlier': 1452,\n",
       " 'proof': 3494,\n",
       " 'eccentr': 1466,\n",
       " 'lead': 2602,\n",
       " 'guarante': 2049,\n",
       " 'outrag': 3190,\n",
       " 'entertain': 1555,\n",
       " 'satir': 3860,\n",
       " 'soap': 4117,\n",
       " 'opera': 3160,\n",
       " 'liner': 2663,\n",
       " 'ridicul': 3749,\n",
       " 'situat': 4065,\n",
       " 'climax': 906,\n",
       " 'broadcast': 641,\n",
       " 'improv': 2296,\n",
       " 'transplant': 4585,\n",
       " 'kline': 2538,\n",
       " 'wear': 4860,\n",
       " 'glass': 1965,\n",
       " 'hilari': 2162,\n",
       " 'explor': 1645,\n",
       " 'salli': 3844,\n",
       " 'field': 1740,\n",
       " 'elizabeth': 1503,\n",
       " 'downey': 1389,\n",
       " 'jr': 2480,\n",
       " 'whoopi': 4896,\n",
       " 'goldberg': 1983,\n",
       " 'marshal': 2789,\n",
       " 'perfect': 3288,\n",
       " 'treat': 4595,\n",
       " 'click': 900,\n",
       " 'classic': 889,\n",
       " 'p': 3208,\n",
       " 'score': 3889,\n",
       " 'alan': 193,\n",
       " 'bonu': 576,\n",
       " 'fit': 1770,\n",
       " 'melodramat': 2841,\n",
       " 'air': 185,\n",
       " 'pick': 3324,\n",
       " 'intent': 2375,\n",
       " 'zombi': 4997,\n",
       " 'idea': 2257,\n",
       " 'pain': 3217,\n",
       " 'tortur': 4556,\n",
       " 'etern': 1586,\n",
       " 'valu': 4740,\n",
       " 'stuff': 4306,\n",
       " 'overal': 3195,\n",
       " 'explan': 1641,\n",
       " 'oil': 3144,\n",
       " 'bullet': 671,\n",
       " 'outcom': 3183,\n",
       " 'pleasant': 3356,\n",
       " 'beg': 472,\n",
       " 'win': 4914,\n",
       " 'documentari': 1368,\n",
       " 'race': 3558,\n",
       " 'wide': 4900,\n",
       " 'perspect': 3299,\n",
       " 'hear': 2121,\n",
       " 'speed': 4174,\n",
       " 'natur': 3017,\n",
       " 'depth': 1261,\n",
       " 'caught': 772,\n",
       " 'public': 3521,\n",
       " 'knew': 2540,\n",
       " 'boy': 601,\n",
       " 'royal': 3810,\n",
       " 'albert': 196,\n",
       " 'thrill': 4499,\n",
       " 'complet': 978,\n",
       " 'pure': 3532,\n",
       " 'smoke': 4108,\n",
       " 'entranc': 1561,\n",
       " 'appreci': 297,\n",
       " 'bottl': 591,\n",
       " 'rocket': 3776,\n",
       " 'home': 2188,\n",
       " 'cream': 1103,\n",
       " 'heard': 2122,\n",
       " 'blue': 557,\n",
       " 'rock': 3775,\n",
       " 'roll': 3781,\n",
       " 'listen': 2670,\n",
       " 'lose': 2698,\n",
       " 'lend': 2624,\n",
       " 'justifi': 2495,\n",
       " 'selfish': 3931,\n",
       " 'replay': 3687,\n",
       " 'easi': 1457,\n",
       " 'reach': 3600,\n",
       " 'recent': 3619,\n",
       " 'belong': 485,\n",
       " 'favourit': 1712,\n",
       " 'hard': 2094,\n",
       " 'subject': 4315,\n",
       " 'matter': 2809,\n",
       " 'discov': 1333,\n",
       " 'memor': 2844,\n",
       " ...}"
      ]
     },
     "execution_count": 30,
     "metadata": {},
     "output_type": "execute_result"
    }
   ],
   "source": [
    "vocabulary"
   ]
  },
  {
   "cell_type": "markdown",
   "metadata": {},
   "source": [
    "## Extensions\n",
    "\n",
    "There are several ways in which you can build upon this notebook. Each comes with its set of challenges, but can be a rewarding experience.\n",
    "\n",
    "- The first thing is to try and improve the accuracy of your model by experimenting with different architectures, layers and parameters. How good can you get without taking prohibitively long to train? How do you prevent overfitting?\n",
    "\n",
    "- Then, you may want to deploy your model as a mobile app or web service. What do you need to do in order to package your model for such deployment? How would you accept a new review, convert it into a form suitable for your model, and perform the actual prediction? (Note that the same environment you used during training may not be available.)\n",
    "\n",
    "- One simplification we made in this notebook is to limit the task to binary classification. The dataset actually includes a more fine-grained review rating that is indicated in each review's filename (which is of the form `<[id]_[rating].txt>` where `[id]` is a unique identifier and `[rating]` is on a scale of 1-10; note that neutral reviews > 4 or < 7 have been excluded). How would you modify the notebook to perform regression on the review ratings? In what situations is regression more useful than classification, and vice-versa?\n",
    "\n",
    "Whatever direction you take, make sure to share your results and learnings with your peers, through blogs, discussions and participating in online competitions. This is also a great way to become more visible to potential employers!"
   ]
  },
  {
   "cell_type": "code",
   "execution_count": null,
   "metadata": {
    "collapsed": true
   },
   "outputs": [],
   "source": []
  }
 ],
 "metadata": {
  "kernelspec": {
   "display_name": "Python 3",
   "language": "python",
   "name": "python3"
  },
  "language_info": {
   "codemirror_mode": {
    "name": "ipython",
    "version": 3
   },
   "file_extension": ".py",
   "mimetype": "text/x-python",
   "name": "python",
   "nbconvert_exporter": "python",
   "pygments_lexer": "ipython3",
   "version": "3.6.3"
  }
 },
 "nbformat": 4,
 "nbformat_minor": 2
}
